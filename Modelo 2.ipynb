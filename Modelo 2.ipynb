{
 "cells": [
  {
   "cell_type": "markdown",
   "metadata": {},
   "source": [
    "# Modelo 2"
   ]
  },
  {
   "cell_type": "code",
   "execution_count": 1,
   "metadata": {},
   "outputs": [],
   "source": [
    "import pandas as pd\n",
    "import numpy as np\n",
    "import matplotlib.pyplot as plt\n",
    "import seaborn as sns\n",
    "%matplotlib inline\n",
    "\n",
    "import sklearn\n",
    "from sklearn import metrics, model_selection, tree\n",
    "from sklearn.ensemble import GradientBoostingClassifier\n",
    "import joblib\n",
    "from sklearn.model_selection import cross_val_score\n",
    "from sklearn.model_selection import RepeatedKFold\n",
    "from sklearn.model_selection import KFold\n",
    "from statistics import mean"
   ]
  },
  {
   "cell_type": "code",
   "execution_count": 2,
   "metadata": {},
   "outputs": [],
   "source": [
    "# Se importan los data sets\n",
    "# Train data\n",
    "X_train = pd.read_csv('x_train.csv').to_numpy()\n",
    "y_train = pd.read_csv('y_train.csv')\n",
    "y_train = y_train['HasDetections']\n",
    "\n",
    "# Test data\n",
    "X_test = pd.read_csv('x_test.csv').to_numpy()\n",
    "y_test = pd.read_csv('y_test.csv')\n",
    "y_test = y_test['HasDetections']\n",
    "\n",
    "# Validation data\n",
    "X_validation = pd.read_csv('x_validation.csv').to_numpy()\n",
    "y_validation = pd.read_csv('y_validation.csv')\n",
    "y_validation = y_validation['HasDetections']"
   ]
  },
  {
   "cell_type": "markdown",
   "metadata": {},
   "source": [
    "## Naive Bayes Gaussiano"
   ]
  },
  {
   "cell_type": "code",
   "execution_count": 5,
   "metadata": {},
   "outputs": [],
   "source": [
    "from sklearn.naive_bayes import GaussianNB\n",
    "clf = GaussianNB()"
   ]
  },
  {
   "cell_type": "code",
   "execution_count": 6,
   "metadata": {},
   "outputs": [
    {
     "data": {
      "text/plain": [
       "False"
      ]
     },
     "execution_count": 6,
     "metadata": {},
     "output_type": "execute_result"
    }
   ],
   "source": [
    "# Se eliminan los NaN values\n",
    "np.any(np.isnan(X_train))\n",
    "X_train = np.nan_to_num(X_train)\n",
    "np.any(np.isnan(X_train))\n",
    "\n",
    "np.any(np.isnan(X_test))\n",
    "X_test = np.nan_to_num(X_test)\n",
    "np.any(np.isnan(X_test))\n",
    "\n",
    "np.any(np.isnan(X_validation))\n",
    "X_validation = np.nan_to_num(X_validation)\n",
    "np.any(np.isnan(X_validation))"
   ]
  },
  {
   "cell_type": "code",
   "execution_count": 7,
   "metadata": {},
   "outputs": [
    {
     "data": {
      "text/plain": [
       "GaussianNB()"
      ]
     },
     "execution_count": 7,
     "metadata": {},
     "output_type": "execute_result"
    }
   ],
   "source": [
    "clf.fit(X_train, y_train)"
   ]
  },
  {
   "cell_type": "code",
   "execution_count": 8,
   "metadata": {},
   "outputs": [],
   "source": [
    "clf.score(X_train, y_train)\n",
    "pred_train = clf.predict(X_train)"
   ]
  },
  {
   "cell_type": "code",
   "execution_count": 9,
   "metadata": {},
   "outputs": [
    {
     "name": "stdout",
     "output_type": "stream",
     "text": [
      "Validation accuracy:\n",
      " 0.5011049027611452\n",
      "\n",
      "Matriz de confusion:\n",
      " [[472734    393]\n",
      " [470777    523]]\n",
      "\n",
      "Metricas de evaluacion:\n",
      "               precision    recall  f1-score   support\n",
      "\n",
      "           0       0.50      1.00      0.67    473127\n",
      "           1       0.57      0.00      0.00    471300\n",
      "\n",
      "    accuracy                           0.50    944427\n",
      "   macro avg       0.54      0.50      0.33    944427\n",
      "weighted avg       0.54      0.50      0.34    944427\n",
      "\n"
     ]
    }
   ],
   "source": [
    "print(\"Validation accuracy:\\n\", metrics.accuracy_score(y_train, pred_train))\n",
    "print('\\nMatriz de confusion:\\n', metrics.confusion_matrix(y_train, pred_train))\n",
    "print('\\nMetricas de evaluacion:\\n',metrics.classification_report(y_train, pred_train, target_names=['0', '1']))"
   ]
  },
  {
   "cell_type": "markdown",
   "metadata": {},
   "source": [
    "Las detecciones verdaderas tuvieron mejores resultados de precision.  Sin embargo el recall\n",
    " y f1-score de las detecciones falsas fueron por mucho, mas altas que las de las verdaderas"
   ]
  },
  {
   "cell_type": "markdown",
   "metadata": {},
   "source": [
    "#### Validation data"
   ]
  },
  {
   "cell_type": "code",
   "execution_count": 11,
   "metadata": {},
   "outputs": [],
   "source": [
    "clf.score(X_validation, y_validation)\n",
    "pred_validation = clf.predict(X_validation)"
   ]
  },
  {
   "cell_type": "code",
   "execution_count": 12,
   "metadata": {},
   "outputs": [
    {
     "name": "stdout",
     "output_type": "stream",
     "text": [
      "Validation accuracy:\n",
      " 0.5003843197540354\n",
      "\n",
      "Matriz de confusion:\n",
      " [[127453     81]\n",
      " [127319    143]]\n",
      "\n",
      "Metricas de evaluacion:\n",
      "               precision    recall  f1-score   support\n",
      "\n",
      "           0       0.50      1.00      0.67    127534\n",
      "           1       0.64      0.00      0.00    127462\n",
      "\n",
      "    accuracy                           0.50    254996\n",
      "   macro avg       0.57      0.50      0.33    254996\n",
      "weighted avg       0.57      0.50      0.33    254996\n",
      "\n"
     ]
    }
   ],
   "source": [
    "print(\"Validation accuracy:\\n\", metrics.accuracy_score(y_validation, pred_validation))\n",
    "print('\\nMatriz de confusion:\\n', metrics.confusion_matrix(y_validation, pred_validation))\n",
    "print('\\nMetricas de evaluacion:\\n',metrics.classification_report(y_validation, pred_validation, target_names=['0', '1']))"
   ]
  },
  {
   "cell_type": "markdown",
   "metadata": {},
   "source": [
    "Las detecciones verdaderas tuvieron mejores resultados de precision.  Sin embargo el recall\n",
    " y f1-score de las detecciones falsas fueron por mucho, mas altas que las de las verdaderas las cuales obtuvieron 0.00"
   ]
  },
  {
   "cell_type": "markdown",
   "metadata": {},
   "source": [
    "#### Test data"
   ]
  },
  {
   "cell_type": "code",
   "execution_count": 15,
   "metadata": {},
   "outputs": [],
   "source": [
    "clf.score(X_test, y_test)\n",
    "pred_test = clf.predict(X_test)"
   ]
  },
  {
   "cell_type": "code",
   "execution_count": 16,
   "metadata": {},
   "outputs": [
    {
     "name": "stdout",
     "output_type": "stream",
     "text": [
      "Validation accuracy:\n",
      " 0.5010613906825544\n",
      "\n",
      "Matriz de confusion:\n",
      " [[259090    200]\n",
      " [258109    318]]\n",
      "\n",
      "Metricas de evaluacion:\n",
      "               precision    recall  f1-score   support\n",
      "\n",
      "           0       0.50      1.00      0.67    259290\n",
      "           1       0.61      0.00      0.00    258427\n",
      "\n",
      "    accuracy                           0.50    517717\n",
      "   macro avg       0.56      0.50      0.33    517717\n",
      "weighted avg       0.56      0.50      0.34    517717\n",
      "\n"
     ]
    }
   ],
   "source": [
    "print(\"Validation accuracy:\\n\", metrics.accuracy_score(y_test, pred_test))\n",
    "print('\\nMatriz de confusion:\\n', metrics.confusion_matrix(y_test, pred_test))\n",
    "print('\\nMetricas de evaluacion:\\n',metrics.classification_report(y_test, pred_test, target_names=['0', '1']))"
   ]
  },
  {
   "cell_type": "markdown",
   "metadata": {},
   "source": [
    "Las detecciones verdaderas tuvieron mejores resultados de precision.  Sin embargo el recall\n",
    " y f1-score de las detecciones falsas fueron por mucho, mas altas que las de las verdaderas las cuales obtuvieron 0.00"
   ]
  },
  {
   "cell_type": "code",
   "execution_count": 17,
   "metadata": {},
   "outputs": [
    {
     "data": {
      "text/plain": [
       "['modelo2.h5']"
      ]
     },
     "execution_count": 17,
     "metadata": {},
     "output_type": "execute_result"
    }
   ],
   "source": [
    "# se guarda el modelo \n",
    "joblib.dump(clf, 'modelo2.h5')"
   ]
  },
  {
   "cell_type": "markdown",
   "metadata": {},
   "source": [
    "#### Evaluacion del modelo"
   ]
  },
  {
   "cell_type": "markdown",
   "metadata": {},
   "source": [
    "*Cross Validation*"
   ]
  },
  {
   "cell_type": "code",
   "execution_count": 18,
   "metadata": {},
   "outputs": [
    {
     "data": {
      "text/plain": [
       "array([0.55845325, 0.50065119, 0.50148767, 0.50151944, 0.50171003,\n",
       "       0.50160414, 0.50340417, 0.49886703, 0.50145063, 0.49933292])"
      ]
     },
     "execution_count": 18,
     "metadata": {},
     "output_type": "execute_result"
    }
   ],
   "source": [
    "# prepare the cross-validation procedure\n",
    "cv = KFold(n_splits=10, random_state=1, shuffle=True)\n",
    "# evaluate model\n",
    "scores = cross_val_score(clf, X_train, y_train, scoring='accuracy', cv=cv, n_jobs=-1)\n",
    "scores"
   ]
  },
  {
   "cell_type": "code",
   "execution_count": 19,
   "metadata": {},
   "outputs": [
    {
     "name": "stdout",
     "output_type": "stream",
     "text": [
      "Accuracy: 0.507 (0.017)\n"
     ]
    }
   ],
   "source": [
    "# report performance\n",
    "print('Accuracy: %.3f (%.3f)' % (np.mean(scores), np.std(scores)))"
   ]
  },
  {
   "cell_type": "code",
   "execution_count": 20,
   "metadata": {},
   "outputs": [
    {
     "name": "stdout",
     "output_type": "stream",
     "text": [
      "[ 94443  94444  94445 ... 944424 944425 944426] [    0     1     2 ... 94440 94441 94442]\n",
      "[     0      1      2 ... 944424 944425 944426] [ 94443  94444  94445 ... 188883 188884 188885]\n",
      "[     0      1      2 ... 944424 944425 944426] [188886 188887 188888 ... 283326 283327 283328]\n",
      "[     0      1      2 ... 944424 944425 944426] [283329 283330 283331 ... 377769 377770 377771]\n",
      "[     0      1      2 ... 944424 944425 944426] [377772 377773 377774 ... 472212 472213 472214]\n",
      "[     0      1      2 ... 944424 944425 944426] [472215 472216 472217 ... 566655 566656 566657]\n",
      "[     0      1      2 ... 944424 944425 944426] [566658 566659 566660 ... 661098 661099 661100]\n",
      "[     0      1      2 ... 944424 944425 944426] [661101 661102 661103 ... 755540 755541 755542]\n",
      "[     0      1      2 ... 944424 944425 944426] [755543 755544 755545 ... 849982 849983 849984]\n",
      "[     0      1      2 ... 849982 849983 849984] [849985 849986 849987 ... 944424 944425 944426]\n"
     ]
    }
   ],
   "source": [
    "from sklearn.model_selection import RepeatedKFold\n",
    "kf = KFold(n_splits=10)\n",
    "for train, test in kf.split(X_train):\n",
    "    print(\"%s %s\" % (train, test))"
   ]
  },
  {
   "cell_type": "markdown",
   "metadata": {},
   "source": [
    "*Grafica de la curva ROC*"
   ]
  },
  {
   "cell_type": "code",
   "execution_count": 23,
   "metadata": {},
   "outputs": [],
   "source": [
    "# Extraido de: https://stackoverflow.com/questions/45332410/roc-for-multiclass-classification\n",
    "def plot_multiclass_roc(clf, X_test, y_test, n_classes, figsize=(17, 6)):\n",
    "    y_score = clf.predict_proba(X_test)\n",
    "\n",
    "    # structures\n",
    "    fpr = dict()\n",
    "    tpr = dict()\n",
    "    roc_auc = dict()\n",
    "\n",
    "    # calculate dummies once\n",
    "    y_test_dummies = pd.get_dummies(y_test, drop_first=False).values\n",
    "    for i in range(n_classes):\n",
    "        fpr[i], tpr[i], _ = metrics.roc_curve(y_test_dummies[:, i], y_score[:, i])\n",
    "        roc_auc[i] = metrics.auc(fpr[i], tpr[i])\n",
    "\n",
    "    # roc for each class\n",
    "    fig, ax = plt.subplots(figsize=figsize)\n",
    "    ax.plot([0, 1], [0, 1], color='navy', lw=2, linestyle='--')\n",
    "    ax.set_xlim([0.0, 1.0])\n",
    "    ax.set_ylim([0.0, 1.05])\n",
    "    ax.set_xlabel('False Positive Rate')\n",
    "    ax.set_ylabel('True Positive Rate')\n",
    "    ax.set_title('Receiver operating characteristic curves')\n",
    "    for i in range(n_classes):\n",
    "        ax.plot(fpr[i], tpr[i], label='ROC curve (area = %0.2f) for label %i' % (roc_auc[i], i))\n",
    "    ax.legend(loc=\"best\")\n",
    "    ax.grid(alpha=.4)\n",
    "    sns.despine()\n",
    "    plt.show()"
   ]
  },
  {
   "cell_type": "code",
   "execution_count": 24,
   "metadata": {},
   "outputs": [
    {
     "data": {
      "image/png": "[encoded data removed]",
      "text/plain": [
       "<Figure size 1152x720 with 1 Axes>"
      ]
     },
     "metadata": {
      "needs_background": "light"
     },
     "output_type": "display_data"
    }
   ],
   "source": [
    "plot_multiclass_roc(clf, X_test, y_test, n_classes=2, figsize=(16, 10))"
   ]
  },
  {
   "cell_type": "code",
   "execution_count": null,
   "metadata": {},
   "outputs": [],
   "source": []
  }
 ],
 "metadata": {
  "kernelspec": {
   "display_name": "Python 3",
   "language": "python",
   "name": "python3"
  },
  "language_info": {
   "codemirror_mode": {
    "name": "ipython",
    "version": 3
   },
   "file_extension": ".py",
   "mimetype": "text/x-python",
   "name": "python",
   "nbconvert_exporter": "python",
   "pygments_lexer": "ipython3",
   "version": "3.8.1"
  }
 },
 "nbformat": 4,
 "nbformat_minor": 4
}
