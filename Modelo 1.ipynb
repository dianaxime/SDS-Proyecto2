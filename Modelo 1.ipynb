{
 "cells": [
  {
   "cell_type": "markdown",
   "metadata": {},
   "source": [
    "# Decision Tree"
   ]
  },
  {
   "cell_type": "code",
   "execution_count": 1,
   "metadata": {},
   "outputs": [],
   "source": [
    "import pandas as pd\n",
    "import numpy as np\n",
    "import matplotlib.pyplot as plt\n",
    "import seaborn as sns\n",
    "%matplotlib inline\n",
    "\n",
    "import sklearn\n",
    "from sklearn import metrics, model_selection, tree\n",
    "from sklearn.ensemble import GradientBoostingClassifier\n",
    "import joblib\n",
    "from sklearn.model_selection import cross_val_score\n",
    "from sklearn.model_selection import RepeatedKFold\n",
    "from sklearn.model_selection import KFold\n",
    "from statistics import mean"
   ]
  },
  {
   "cell_type": "code",
   "execution_count": 5,
   "metadata": {},
   "outputs": [],
   "source": [
    "# Se importan los data sets\n",
    "# Train data\n",
    "X_train = pd.read_csv('x_train.csv').to_numpy()\n",
    "y_train = pd.read_csv('y_train.csv')\n",
    "y_train = y_train['HasDetections']\n",
    "\n",
    "# Test data\n",
    "X_test = pd.read_csv('x_test.csv').to_numpy()\n",
    "y_test = pd.read_csv('y_test.csv')\n",
    "y_test = y_test['HasDetections']\n",
    "\n",
    "# Validation data\n",
    "X_validation = pd.read_csv('x_validation.csv').to_numpy()\n",
    "y_validation = pd.read_csv('y_validation.csv')\n",
    "y_validation = y_validation['HasDetections']"
   ]
  },
  {
   "cell_type": "markdown",
   "metadata": {},
   "source": [
    "## Decision Tree"
   ]
  },
  {
   "cell_type": "code",
   "execution_count": 23,
   "metadata": {},
   "outputs": [],
   "source": [
    "from sklearn import tree\n",
    "clf = tree.DecisionTreeClassifier()"
   ]
  },
  {
   "cell_type": "code",
   "execution_count": 27,
   "metadata": {},
   "outputs": [
    {
     "data": {
      "text/plain": [
       "False"
      ]
     },
     "execution_count": 27,
     "metadata": {},
     "output_type": "execute_result"
    }
   ],
   "source": [
    "# Se eliminan los NaN values\n",
    "np.any(np.isnan(X_train))\n",
    "X_train = np.nan_to_num(X_train)\n",
    "np.any(np.isnan(X_train))\n",
    "\n",
    "np.any(np.isnan(X_test))\n",
    "X_test = np.nan_to_num(X_test)\n",
    "np.any(np.isnan(X_test))\n",
    "\n",
    "np.any(np.isnan(X_validation))\n",
    "X_validation = np.nan_to_num(X_validation)\n",
    "np.any(np.isnan(X_validation))"
   ]
  },
  {
   "cell_type": "code",
   "execution_count": 24,
   "metadata": {},
   "outputs": [
    {
     "data": {
      "text/plain": [
       "DecisionTreeClassifier()"
      ]
     },
     "execution_count": 24,
     "metadata": {},
     "output_type": "execute_result"
    }
   ],
   "source": [
    "clf.fit(X_train, y_train)"
   ]
  },
  {
   "cell_type": "code",
   "execution_count": 43,
   "metadata": {},
   "outputs": [],
   "source": [
    "clf.score(X_train, y_train)\n",
    "pred_train = clf.predict(X_train)"
   ]
  },
  {
   "cell_type": "code",
   "execution_count": 44,
   "metadata": {},
   "outputs": [
    {
     "name": "stdout",
     "output_type": "stream",
     "text": [
      "Validation accuracy:\n",
      " 0.9978876080417015\n",
      "\n",
      "Matriz de confusion:\n",
      " [[472794    333]\n",
      " [  1662 469638]]\n",
      "\n",
      "Metricas de evaluacion:\n",
      "               precision    recall  f1-score   support\n",
      "\n",
      "           0       1.00      1.00      1.00    473127\n",
      "           1       1.00      1.00      1.00    471300\n",
      "\n",
      "    accuracy                           1.00    944427\n",
      "   macro avg       1.00      1.00      1.00    944427\n",
      "weighted avg       1.00      1.00      1.00    944427\n",
      "\n"
     ]
    }
   ],
   "source": [
    "print(\"Validation accuracy:\\n\", metrics.accuracy_score(y_train, pred_train))\n",
    "print('\\nMatriz de confusion:\\n', metrics.confusion_matrix(y_train, pred_train))\n",
    "print('\\nMetricas de evaluacion:\\n',metrics.classification_report(y_train, pred_train, target_names=['0', '1']))"
   ]
  },
  {
   "cell_type": "markdown",
   "metadata": {},
   "source": [
    "Las detecciones (positivas y negativas) tuvieron resultados semejantes. Tanto en precision, como recall y  f1-score usando la data de train"
   ]
  },
  {
   "cell_type": "markdown",
   "metadata": {},
   "source": [
    "#### Validation data"
   ]
  },
  {
   "cell_type": "code",
   "execution_count": 37,
   "metadata": {},
   "outputs": [
    {
     "data": {
      "text/plain": [
       "0.5455183610723305"
      ]
     },
     "execution_count": 37,
     "metadata": {},
     "output_type": "execute_result"
    }
   ],
   "source": [
    "clf.score(X_validation, y_validation)"
   ]
  },
  {
   "cell_type": "code",
   "execution_count": 29,
   "metadata": {},
   "outputs": [],
   "source": [
    "pred_validation = clf.predict(X_validation)"
   ]
  },
  {
   "cell_type": "code",
   "execution_count": 36,
   "metadata": {},
   "outputs": [
    {
     "name": "stdout",
     "output_type": "stream",
     "text": [
      "Validation accuracy:\n",
      " 0.5455183610723305\n",
      "\n",
      "Matriz de confusion:\n",
      " [[69738 57796]\n",
      " [58095 69367]]\n",
      "\n",
      "Metricas de evaluacion:\n",
      "               precision    recall  f1-score   support\n",
      "\n",
      "           0       0.55      0.55      0.55    127534\n",
      "           1       0.55      0.54      0.54    127462\n",
      "\n",
      "    accuracy                           0.55    254996\n",
      "   macro avg       0.55      0.55      0.55    254996\n",
      "weighted avg       0.55      0.55      0.55    254996\n",
      "\n"
     ]
    }
   ],
   "source": [
    "print(\"Validation accuracy:\\n\", metrics.accuracy_score(y_validation, pred_validation))\n",
    "print('\\nMatriz de confusion:\\n', metrics.confusion_matrix(y_validation, pred_validation))\n",
    "print('\\nMetricas de evaluacion:\\n',metrics.classification_report(y_validation, pred_validation, target_names=['0', '1']))"
   ]
  },
  {
   "cell_type": "markdown",
   "metadata": {},
   "source": [
    "Las detecciones (positivas y negativas) tuvieron resultados semejantes. En precision 55% para la data de validacion, pero para recall y f1-score las detecciones negativa sobtuvieron mayor porcentaje"
   ]
  },
  {
   "cell_type": "markdown",
   "metadata": {},
   "source": [
    "#### Test data"
   ]
  },
  {
   "cell_type": "code",
   "execution_count": 38,
   "metadata": {},
   "outputs": [
    {
     "data": {
      "text/plain": [
       "0.5470054102917231"
      ]
     },
     "execution_count": 38,
     "metadata": {},
     "output_type": "execute_result"
    }
   ],
   "source": [
    "clf.score(X_test, y_test)"
   ]
  },
  {
   "cell_type": "code",
   "execution_count": 41,
   "metadata": {},
   "outputs": [],
   "source": [
    "pred_test = clf.predict(X_test)"
   ]
  },
  {
   "cell_type": "code",
   "execution_count": 42,
   "metadata": {},
   "outputs": [
    {
     "name": "stdout",
     "output_type": "stream",
     "text": [
      "Validation accuracy:\n",
      " 0.5470054102917231\n",
      "\n",
      "Matriz de confusion:\n",
      " [[141485 117805]\n",
      " [116718 141709]]\n",
      "\n",
      "Metricas de evaluacion:\n",
      "               precision    recall  f1-score   support\n",
      "\n",
      "           0       0.55      0.55      0.55    259290\n",
      "           1       0.55      0.55      0.55    258427\n",
      "\n",
      "    accuracy                           0.55    517717\n",
      "   macro avg       0.55      0.55      0.55    517717\n",
      "weighted avg       0.55      0.55      0.55    517717\n",
      "\n"
     ]
    }
   ],
   "source": [
    "print(\"Validation accuracy:\\n\", metrics.accuracy_score(y_test, pred_test))\n",
    "print('\\nMatriz de confusion:\\n', metrics.confusion_matrix(y_test, pred_test))\n",
    "print('\\nMetricas de evaluacion:\\n',metrics.classification_report(y_test, pred_test, target_names=['0', '1']))"
   ]
  },
  {
   "cell_type": "markdown",
   "metadata": {},
   "source": [
    "Las detecciones (positivas y negativas) tuvieron resultados semejantes. En precision, recall y f1-score ambas obtuvieron 55% para la data de test"
   ]
  },
  {
   "cell_type": "code",
   "execution_count": 45,
   "metadata": {},
   "outputs": [
    {
     "data": {
      "text/plain": [
       "['modelo1.h5']"
      ]
     },
     "execution_count": 45,
     "metadata": {},
     "output_type": "execute_result"
    }
   ],
   "source": [
    "# se guarda el modelo \n",
    "joblib.dump(clf, 'modelo1.h5')"
   ]
  },
  {
   "cell_type": "markdown",
   "metadata": {},
   "source": [
    "#### Evaluacion del modelo"
   ]
  },
  {
   "cell_type": "markdown",
   "metadata": {},
   "source": [
    "*Cross Validation*"
   ]
  },
  {
   "cell_type": "code",
   "execution_count": 48,
   "metadata": {},
   "outputs": [
    {
     "data": {
      "text/plain": [
       "array([0.54724013, 0.54659424, 0.54678483, 0.54826721, 0.54666836,\n",
       "       0.5466366 , 0.54378832, 0.5445988 , 0.5459859 , 0.54726711])"
      ]
     },
     "execution_count": 48,
     "metadata": {},
     "output_type": "execute_result"
    }
   ],
   "source": [
    "# prepare the cross-validation procedure\n",
    "cv = KFold(n_splits=10, random_state=1, shuffle=True)\n",
    "# evaluate model\n",
    "scores = cross_val_score(clf, X_train, y_train, scoring='accuracy', cv=cv, n_jobs=-1)\n",
    "scores"
   ]
  },
  {
   "cell_type": "code",
   "execution_count": 49,
   "metadata": {},
   "outputs": [
    {
     "name": "stdout",
     "output_type": "stream",
     "text": [
      "Accuracy: 0.546 (0.001)\n"
     ]
    }
   ],
   "source": [
    "# report performance\n",
    "print('Accuracy: %.3f (%.3f)' % (np.mean(scores), np.std(scores)))"
   ]
  },
  {
   "cell_type": "code",
   "execution_count": 50,
   "metadata": {},
   "outputs": [
    {
     "name": "stdout",
     "output_type": "stream",
     "text": [
      "[ 94443  94444  94445 ... 944424 944425 944426] [    0     1     2 ... 94440 94441 94442]\n",
      "[     0      1      2 ... 944424 944425 944426] [ 94443  94444  94445 ... 188883 188884 188885]\n",
      "[     0      1      2 ... 944424 944425 944426] [188886 188887 188888 ... 283326 283327 283328]\n",
      "[     0      1      2 ... 944424 944425 944426] [283329 283330 283331 ... 377769 377770 377771]\n",
      "[     0      1      2 ... 944424 944425 944426] [377772 377773 377774 ... 472212 472213 472214]\n",
      "[     0      1      2 ... 944424 944425 944426] [472215 472216 472217 ... 566655 566656 566657]\n",
      "[     0      1      2 ... 944424 944425 944426] [566658 566659 566660 ... 661098 661099 661100]\n",
      "[     0      1      2 ... 944424 944425 944426] [661101 661102 661103 ... 755540 755541 755542]\n",
      "[     0      1      2 ... 944424 944425 944426] [755543 755544 755545 ... 849982 849983 849984]\n",
      "[     0      1      2 ... 849982 849983 849984] [849985 849986 849987 ... 944424 944425 944426]\n"
     ]
    }
   ],
   "source": [
    "from sklearn.model_selection import RepeatedKFold\n",
    "kf = KFold(n_splits=10)\n",
    "for train, test in kf.split(X_train):\n",
    "    print(\"%s %s\" % (train, test))"
   ]
  },
  {
   "cell_type": "markdown",
   "metadata": {},
   "source": [
    "*Grafica de la curva ROC*"
   ]
  },
  {
   "cell_type": "code",
   "execution_count": 101,
   "metadata": {},
   "outputs": [],
   "source": [
    "# Extraido de: https://stackoverflow.com/questions/45332410/roc-for-multiclass-classification\n",
    "def plot_multiclass_roc(clf, X_test, y_test, n_classes, figsize=(17, 6)):\n",
    "    y_score = clf.predict_proba(X_test)\n",
    "\n",
    "    # structures\n",
    "    fpr = dict()\n",
    "    tpr = dict()\n",
    "    roc_auc = dict()\n",
    "\n",
    "    # calculate dummies once\n",
    "    y_test_dummies = pd.get_dummies(y_test, drop_first=False).values\n",
    "    for i in range(n_classes):\n",
    "        fpr[i], tpr[i], _ = metrics.roc_curve(y_test_dummies[:, i], y_score[:, i])\n",
    "        roc_auc[i] = metrics.auc(fpr[i], tpr[i])\n",
    "\n",
    "    # roc for each class\n",
    "    fig, ax = plt.subplots(figsize=figsize)\n",
    "    ax.plot([0, 1], [0, 1], color='navy', lw=2, linestyle='--')\n",
    "    ax.set_xlim([0.0, 1.0])\n",
    "    ax.set_ylim([0.0, 1.05])\n",
    "    ax.set_xlabel('False Positive Rate')\n",
    "    ax.set_ylabel('True Positive Rate')\n",
    "    ax.set_title('Receiver operating characteristic curves')\n",
    "    for i in range(n_classes):\n",
    "        ax.plot(fpr[i], tpr[i], label='ROC curve (area = %0.2f) for label %i' % (roc_auc[i], i))\n",
    "    ax.legend(loc=\"best\")\n",
    "    ax.grid(alpha=.4)\n",
    "    sns.despine()\n",
    "    plt.show()"
   ]
  },
  {
   "cell_type": "code",
   "execution_count": 102,
   "metadata": {},
   "outputs": [
    {
     "data": {
      "image/png": "[encoded data removed]",
      "text/plain": [
       "<Figure size 1152x720 with 1 Axes>"
      ]
     },
     "metadata": {
      "needs_background": "light"
     },
     "output_type": "display_data"
    }
   ],
   "source": [
    "plot_multiclass_roc(clf, X_test, y_test, n_classes=2, figsize=(16, 10))"
   ]
  },
  {
   "cell_type": "code",
   "execution_count": null,
   "metadata": {},
   "outputs": [],
   "source": []
  }
 ],
 "metadata": {
  "kernelspec": {
   "display_name": "Python 3",
   "language": "python",
   "name": "python3"
  },
  "language_info": {
   "codemirror_mode": {
    "name": "ipython",
    "version": 3
   },
   "file_extension": ".py",
   "mimetype": "text/x-python",
   "name": "python",
   "nbconvert_exporter": "python",
   "pygments_lexer": "ipython3",
   "version": "3.8.1"
  }
 },
 "nbformat": 4,
 "nbformat_minor": 4
}
